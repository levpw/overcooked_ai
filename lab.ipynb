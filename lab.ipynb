{
 "cells": [
  {
   "cell_type": "code",
   "execution_count": 1,
   "metadata": {},
   "outputs": [],
   "source": [
    "from overcooked_ai_py.agents.benchmarking import AgentEvaluator\n",
    "from overcooked_ai_py.agents.agent import AgentPair, FixedPlanAgent, GreedyHumanModel, RandomAgent, SampleAgent\n",
    "from overcooked_ai_py.visualization.state_visualizer import StateVisualizer"
   ]
  },
  {
   "cell_type": "code",
   "execution_count": 2,
   "metadata": {},
   "outputs": [
    {
     "name": "stderr",
     "output_type": "stream",
     "text": [
      "Avg rew: 40.00 (std: 0.00, se: 0.00); avg len: 100.00; : 100%|██████████| 1/1 [00:00<00:00,  7.23it/s]\n"
     ]
    }
   ],
   "source": [
    "ae = AgentEvaluator.from_layout_name({\"layout_name\": \"cramped_room\"}, {\"horizon\": 100})\n",
    "trajs = ae.evaluate_human_model_pair()"
   ]
  },
  {
   "cell_type": "code",
   "execution_count": 3,
   "metadata": {},
   "outputs": [
    {
     "data": {
      "application/vnd.jupyter.widget-view+json": {
       "model_id": "ff915b63c2174a77ad42d632b7ef2764",
       "version_major": 2,
       "version_minor": 0
      },
      "text/plain": [
       "interactive(children=(IntSlider(value=0, description='timestep', max=99), Output()), _dom_classes=('widget-int…"
      ]
     },
     "metadata": {},
     "output_type": "display_data"
    }
   ],
   "source": [
    "action_probs = [ [RandomAgent(all_actions=True).action(state)[1][\"action_probs\"]]*2 for state in trajs[\"ep_states\"][0]]\n",
    "StateVisualizer().display_rendered_trajectory(trajs, ipython_display=True)"
   ]
  }
 ],
 "metadata": {
  "kernelspec": {
   "display_name": "overcooked_ai",
   "language": "python",
   "name": "python3"
  },
  "language_info": {
   "codemirror_mode": {
    "name": "ipython",
    "version": 3
   },
   "file_extension": ".py",
   "mimetype": "text/x-python",
   "name": "python",
   "nbconvert_exporter": "python",
   "pygments_lexer": "ipython3",
   "version": "3.7.16"
  },
  "orig_nbformat": 4,
  "vscode": {
   "interpreter": {
    "hash": "4e6937768990dcedc205f323cb9062b85411ad0eb5e2af767865d6b0029264b9"
   }
  }
 },
 "nbformat": 4,
 "nbformat_minor": 2
}
